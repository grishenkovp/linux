{
  "nbformat": 4,
  "nbformat_minor": 0,
  "metadata": {
    "colab": {
      "name": "google_colab_linux_commands.ipynb",
      "provenance": [],
      "collapsed_sections": []
    },
    "kernelspec": {
      "name": "python3",
      "display_name": "Python 3"
    }
  },
  "cells": [
    {
      "cell_type": "markdown",
      "metadata": {
        "id": "xg3TEvVgw_hG"
      },
      "source": [
        "# Команды Linux на платформе Google Colaboratory"
      ]
    },
    {
      "cell_type": "markdown",
      "metadata": {
        "id": "gcOU82zW1Om9"
      },
      "source": [
        "### Операции с файлами и каталогами"
      ]
    },
    {
      "cell_type": "code",
      "metadata": {
        "colab": {
          "base_uri": "https://localhost:8080/"
        },
        "id": "zAFqoc-jw0dA",
        "outputId": "ba77e4b5-8d50-4aab-8f4b-dbf09d4dfc7e"
      },
      "source": [
        "# Список всех файлов в каталоге\n",
        "!ls sample_data"
      ],
      "execution_count": 1,
      "outputs": [
        {
          "output_type": "stream",
          "name": "stdout",
          "text": [
            "anscombe.json\t\t      mnist_test.csv\n",
            "california_housing_test.csv   mnist_train_small.csv\n",
            "california_housing_train.csv  README.md\n"
          ]
        }
      ]
    },
    {
      "cell_type": "code",
      "metadata": {
        "colab": {
          "base_uri": "https://localhost:8080/"
        },
        "id": "r9jAHQPk-3A0",
        "outputId": "8049d576-f8c9-4d5c-f1f8-5921a6e8903c"
      },
      "source": [
        "# Содержимое корневого каталога\n",
        "!ls /"
      ],
      "execution_count": 2,
      "outputs": [
        {
          "output_type": "stream",
          "name": "stdout",
          "text": [
            "bin\t datalab  home\t lib64\topt\t    root  srv\t\t     tmp    var\n",
            "boot\t dev\t  lib\t media\tproc\t    run   sys\t\t     tools\n",
            "content  etc\t  lib32  mnt\tpython-apt  sbin  tensorflow-1.15.2  usr\n"
          ]
        }
      ]
    },
    {
      "cell_type": "code",
      "metadata": {
        "colab": {
          "base_uri": "https://localhost:8080/"
        },
        "id": "f0m1NouRxupX",
        "outputId": "3812c135-e33d-4c3b-e68c-57359555a97d"
      },
      "source": [
        "# Показать первые пять строчек файла\n",
        "!head -n 5 sample_data/california_housing_train.csv "
      ],
      "execution_count": 3,
      "outputs": [
        {
          "output_type": "stream",
          "name": "stdout",
          "text": [
            "\"longitude\",\"latitude\",\"housing_median_age\",\"total_rooms\",\"total_bedrooms\",\"population\",\"households\",\"median_income\",\"median_house_value\"\n",
            "-114.310000,34.190000,15.000000,5612.000000,1283.000000,1015.000000,472.000000,1.493600,66900.000000\n",
            "-114.470000,34.400000,19.000000,7650.000000,1901.000000,1129.000000,463.000000,1.820000,80100.000000\n",
            "-114.560000,33.690000,17.000000,720.000000,174.000000,333.000000,117.000000,1.650900,85700.000000\n",
            "-114.570000,33.640000,14.000000,1501.000000,337.000000,515.000000,226.000000,3.191700,73400.000000\n"
          ]
        }
      ]
    },
    {
      "cell_type": "code",
      "metadata": {
        "colab": {
          "base_uri": "https://localhost:8080/"
        },
        "id": "auzUpmcU5o4L",
        "outputId": "c96a23d6-40d9-4d9f-94ff-4864f3bc9a09"
      },
      "source": [
        "# Вывести последние 5 строчек файла\n",
        "!tail -n 5 sample_data/california_housing_test.csv"
      ],
      "execution_count": 4,
      "outputs": [
        {
          "output_type": "stream",
          "name": "stdout",
          "text": [
            "-119.860000,34.420000,23.000000,1450.000000,642.000000,1258.000000,607.000000,1.179000,225000.000000\n",
            "-118.140000,34.060000,27.000000,5257.000000,1082.000000,3496.000000,1036.000000,3.390600,237200.000000\n",
            "-119.700000,36.300000,10.000000,956.000000,201.000000,693.000000,220.000000,2.289500,62000.000000\n",
            "-117.120000,34.100000,40.000000,96.000000,14.000000,46.000000,14.000000,3.270800,162500.000000\n",
            "-119.630000,34.420000,42.000000,1765.000000,263.000000,753.000000,260.000000,8.560800,500001.000000\n"
          ]
        }
      ]
    },
    {
      "cell_type": "code",
      "metadata": {
        "colab": {
          "base_uri": "https://localhost:8080/"
        },
        "id": "HP3fDGxOyi-8",
        "outputId": "01c09196-40f6-4585-a65e-7a13ab34ef4b"
      },
      "source": [
        "# Посмотреть весь файл \n",
        "!cat sample_data/README.md"
      ],
      "execution_count": 5,
      "outputs": [
        {
          "output_type": "stream",
          "name": "stdout",
          "text": [
            "This directory includes a few sample datasets to get you started.\n",
            "\n",
            "*   `california_housing_data*.csv` is California housing data from the 1990 US\n",
            "    Census; more information is available at:\n",
            "    https://developers.google.com/machine-learning/crash-course/california-housing-data-description\n",
            "\n",
            "*   `mnist_*.csv` is a small sample of the\n",
            "    [MNIST database](https://en.wikipedia.org/wiki/MNIST_database), which is\n",
            "    described at: http://yann.lecun.com/exdb/mnist/\n",
            "\n",
            "*   `anscombe.json` contains a copy of\n",
            "    [Anscombe's quartet](https://en.wikipedia.org/wiki/Anscombe%27s_quartet); it\n",
            "    was originally described in\n",
            "\n",
            "    Anscombe, F. J. (1973). 'Graphs in Statistical Analysis'. American\n",
            "    Statistician. 27 (1): 17-21. JSTOR 2682899.\n",
            "\n",
            "    and our copy was prepared by the\n",
            "    [vega_datasets library](https://github.com/altair-viz/vega_datasets/blob/4f67bdaad10f45e3549984e17e1b3088c731503d/vega_datasets/_data/anscombe.json).\n"
          ]
        }
      ]
    },
    {
      "cell_type": "code",
      "metadata": {
        "colab": {
          "base_uri": "https://localhost:8080/"
        },
        "id": "n7Y4TOLY0eyE",
        "outputId": "7bc803b2-7272-4eb8-92ea-e6d5d121dccb"
      },
      "source": [
        "# Подсчет количества строк в файле \n",
        "!wc -l sample_data/README.md"
      ],
      "execution_count": 6,
      "outputs": [
        {
          "output_type": "stream",
          "name": "stdout",
          "text": [
            "19 sample_data/README.md\n"
          ]
        }
      ]
    },
    {
      "cell_type": "code",
      "metadata": {
        "colab": {
          "base_uri": "https://localhost:8080/"
        },
        "id": "BDhTxSYZ01lt",
        "outputId": "037d260b-1ea8-4ba2-90e8-3fe14e7da45e"
      },
      "source": [
        "# Посмотреть текущий каталог\n",
        "!pwd"
      ],
      "execution_count": 7,
      "outputs": [
        {
          "output_type": "stream",
          "name": "stdout",
          "text": [
            "/content\n"
          ]
        }
      ]
    },
    {
      "cell_type": "code",
      "metadata": {
        "id": "wT-s-9CU1jvd"
      },
      "source": [
        "# Создать новый каталог\n",
        "!mkdir test_folder1 test_folder2 test_folder3"
      ],
      "execution_count": 11,
      "outputs": []
    },
    {
      "cell_type": "code",
      "source": [
        "# Удалить каталог\n",
        "!rm -r test_folder2 test_folder3"
      ],
      "metadata": {
        "id": "JK6jAy7J5kYh"
      },
      "execution_count": 12,
      "outputs": []
    },
    {
      "cell_type": "code",
      "metadata": {
        "id": "p6uvll_71z_U"
      },
      "source": [
        "# Сменить директорию\n",
        "!cd test_folder1"
      ],
      "execution_count": 13,
      "outputs": []
    },
    {
      "cell_type": "code",
      "metadata": {
        "id": "DHrhPadn3NSc"
      },
      "source": [
        "# Создать файл\n",
        "!touch test_folder1/file1.txt"
      ],
      "execution_count": 14,
      "outputs": []
    },
    {
      "cell_type": "code",
      "source": [
        "# Записать данные в файл\n",
        "!echo \"This is test string1\" > test_folder1/file1.txt\n",
        "!echo \"This is test string2\" >> test_folder1/file1.txt"
      ],
      "metadata": {
        "id": "bjCttYJG7OCf"
      },
      "execution_count": 15,
      "outputs": []
    },
    {
      "cell_type": "code",
      "metadata": {
        "id": "3pRjgMVB5fMK"
      },
      "source": [
        "# Скопировать файл\n",
        "!mkdir test_folder2\n",
        "!cp test_folder1/file1.txt test_folder2/"
      ],
      "execution_count": 16,
      "outputs": []
    },
    {
      "cell_type": "code",
      "metadata": {
        "id": "-EO36qxi7Y6F"
      },
      "source": [
        "# Переименовать каталог\n",
        "!mv test_folder2 test_folder3"
      ],
      "execution_count": 17,
      "outputs": []
    },
    {
      "cell_type": "code",
      "source": [
        "# Вывести список папок в определённом каталоге и занимаемое ими место\n",
        "!du --all /content/sample_data/"
      ],
      "metadata": {
        "id": "vFrHyeoF_I_m",
        "colab": {
          "base_uri": "https://localhost:8080/"
        },
        "outputId": "37c2453a-7f27-416c-dae7-468f04bd95c9"
      },
      "execution_count": 20,
      "outputs": [
        {
          "output_type": "stream",
          "name": "stdout",
          "text": [
            "4\t/content/sample_data/README.md\n",
            "4\t/content/sample_data/anscombe.json\n",
            "17864\t/content/sample_data/mnist_test.csv\n",
            "1668\t/content/sample_data/california_housing_train.csv\n",
            "35668\t/content/sample_data/mnist_train_small.csv\n",
            "296\t/content/sample_data/california_housing_test.csv\n",
            "55508\t/content/sample_data/\n"
          ]
        }
      ]
    },
    {
      "cell_type": "code",
      "source": [
        "# Загрузить данные из Интернета\n",
        "!wget https://github.com/grishenkovp/project_cheese_market/blob/main/project_v2/customers_info/customers_info_0.csv"
      ],
      "metadata": {
        "colab": {
          "base_uri": "https://localhost:8080/"
        },
        "id": "e3qMqpWoBS2k",
        "outputId": "a3929f47-1de1-4a44-d9fa-723db91862fb"
      },
      "execution_count": 26,
      "outputs": [
        {
          "output_type": "stream",
          "name": "stdout",
          "text": [
            "--2022-03-20 06:40:20--  https://github.com/grishenkovp/project_cheese_market/blob/main/project_v2/customers_info/customers_info_0.csv\n",
            "Resolving github.com (github.com)... 192.30.255.113\n",
            "Connecting to github.com (github.com)|192.30.255.113|:443... connected.\n",
            "HTTP request sent, awaiting response... 200 OK\n",
            "Length: unspecified [text/html]\n",
            "Saving to: ‘customers_info_0.csv’\n",
            "\n",
            "customers_info_0.cs     [ <=>                ]   1.65M  --.-KB/s    in 0.05s   \n",
            "\n",
            "2022-03-20 06:40:20 (34.5 MB/s) - ‘customers_info_0.csv’ saved [1729912]\n",
            "\n"
          ]
        }
      ]
    },
    {
      "cell_type": "code",
      "source": [
        "# Создать архив\n",
        "!mv customers_info_0.csv customer_data.csv\n",
        "!tar czf customer_data.tar.gz customer_data.csv"
      ],
      "metadata": {
        "id": "1tnupJKBCUwb"
      },
      "execution_count": 27,
      "outputs": []
    },
    {
      "cell_type": "code",
      "source": [
        "!rm customer_data.csv"
      ],
      "metadata": {
        "id": "BygNLh-2DoGx"
      },
      "execution_count": 28,
      "outputs": []
    },
    {
      "cell_type": "code",
      "source": [
        "# Распаковать архив\n",
        "!tar xvfz customer_data.tar.gz"
      ],
      "metadata": {
        "colab": {
          "base_uri": "https://localhost:8080/"
        },
        "id": "UuM7-_H0Dr-w",
        "outputId": "59c47005-c393-42d9-a301-9758b35b7aff"
      },
      "execution_count": 29,
      "outputs": [
        {
          "output_type": "stream",
          "name": "stdout",
          "text": [
            "customer_data.csv\n"
          ]
        }
      ]
    },
    {
      "cell_type": "code",
      "source": [
        "!rm customer_data.tar.gz\n",
        "!rm customer_data.csv"
      ],
      "metadata": {
        "id": "xKJ9ITExD5v8"
      },
      "execution_count": 30,
      "outputs": []
    },
    {
      "cell_type": "code",
      "source": [
        "# Список всех файловых систем по именам устройств, их размер, занятое и свободное пространство, точки монтирования\n",
        "!df -h"
      ],
      "metadata": {
        "colab": {
          "base_uri": "https://localhost:8080/"
        },
        "id": "SkmVVnIqA-11",
        "outputId": "56e6d87b-883a-48ed-b9ca-5f0d3493e586"
      },
      "execution_count": 21,
      "outputs": [
        {
          "output_type": "stream",
          "name": "stdout",
          "text": [
            "Filesystem      Size  Used Avail Use% Mounted on\n",
            "overlay         108G   40G   69G  37% /\n",
            "tmpfs            64M     0   64M   0% /dev\n",
            "shm             5.8G     0  5.8G   0% /dev/shm\n",
            "/dev/root       2.0G  1.2G  817M  59% /sbin/docker-init\n",
            "tmpfs           6.4G   40K  6.4G   1% /var/colab\n",
            "/dev/sda1        81G   44G   38G  54% /etc/hosts\n",
            "tmpfs           6.4G     0  6.4G   0% /proc/acpi\n",
            "tmpfs           6.4G     0  6.4G   0% /proc/scsi\n",
            "tmpfs           6.4G     0  6.4G   0% /sys/firmware\n"
          ]
        }
      ]
    },
    {
      "cell_type": "code",
      "source": [
        "# Данные по использованию физической и SWAP-памяти\n",
        "!free"
      ],
      "metadata": {
        "colab": {
          "base_uri": "https://localhost:8080/"
        },
        "id": "J6yFxCMSFInm",
        "outputId": "a6e88e86-0d9d-4de2-e3fd-701bb32dc9ae"
      },
      "execution_count": 31,
      "outputs": [
        {
          "output_type": "stream",
          "name": "stdout",
          "text": [
            "              total        used        free      shared  buff/cache   available\n",
            "Mem:       13302920      629488    10784736        1184     1888696    12463532\n",
            "Swap:             0           0           0\n"
          ]
        }
      ]
    },
    {
      "cell_type": "code",
      "source": [
        "# Список процессов\n",
        "!ps"
      ],
      "metadata": {
        "colab": {
          "base_uri": "https://localhost:8080/"
        },
        "id": "EtNuyghIFv_L",
        "outputId": "8995ae05-6c6b-4127-e28a-364d7e84bd5a"
      },
      "execution_count": 32,
      "outputs": [
        {
          "output_type": "stream",
          "name": "stdout",
          "text": [
            "    PID TTY          TIME CMD\n",
            "      1 ?        00:00:00 docker-init\n",
            "      7 ?        00:00:04 node\n",
            "     17 ?        00:00:00 tail\n",
            "     27 ?        00:00:06 python3 <defunct>\n",
            "     28 ?        00:00:00 colab-fileshim.\n",
            "     41 ?        00:00:03 jupyter-noteboo\n",
            "     42 ?        00:00:00 dap_multiplexer\n",
            "     59 ?        00:00:07 python3\n",
            "     79 ?        00:00:00 python3\n",
            "     96 ?        00:00:11 node\n",
            "    383 ?        00:00:00 ps\n"
          ]
        }
      ]
    }
  ]
}
